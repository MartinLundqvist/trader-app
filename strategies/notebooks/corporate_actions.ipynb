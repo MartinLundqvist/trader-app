{
 "cells": [
  {
   "attachments": {},
   "cell_type": "markdown",
   "metadata": {},
   "source": [
    "# Corporate Actions - Smashing the data sets and visualizing the results"
   ]
  },
  {
   "attachments": {},
   "cell_type": "markdown",
   "metadata": {},
   "source": [
    "First we define some global constants to keep us in line"
   ]
  },
  {
   "cell_type": "code",
   "execution_count": 1,
   "metadata": {},
   "outputs": [],
   "source": [
    "# Types: merger, spinoff, split, dividend\n",
    "ca_types = ['merger','spinoff', 'split', 'dividend']\n",
    "\n",
    "# Events: effective (announcement will date effect), record (last date to ensure entitlement), declaration (announced), payable (payout), ex (first date after which no entitlement)\n",
    "ca_events = ['effective', 'record', 'declaration', 'payable', 'ex']"
   ]
  },
  {
   "attachments": {},
   "cell_type": "markdown",
   "metadata": {},
   "source": [
    "Import the ticker data. For this particular piece, I suspect we will want to use unadjusted values"
   ]
  },
  {
   "cell_type": "code",
   "execution_count": 2,
   "metadata": {},
   "outputs": [],
   "source": [
    "import pandas as pd\n",
    "\n",
    "def parse_data(json_data: str):\n",
    "    df = pd.read_json(json_data)\n",
    "    df['date'] = pd.to_datetime(df['date'])\n",
    "    df.set_index('date', inplace=True)\n",
    "    df.sort_values(by='date', inplace=True)\n",
    "    df['Close'] = df['close']\n",
    "    df['Open'] = df['open']\n",
    "    df['High'] = df['high']\n",
    "    df['Low'] = df['low']\n",
    "    df['Volume'] = df['volume']\n",
    "    return df"
   ]
  },
  {
   "attachments": {},
   "cell_type": "markdown",
   "metadata": {},
   "source": [
    "Add the corporate actions indicators. We create one new column for each type and event with the Closing price as the value."
   ]
  },
  {
   "cell_type": "code",
   "execution_count": 3,
   "metadata": {},
   "outputs": [],
   "source": [
    "def add_ca_data(df: pd.DataFrame, json_data: str):\n",
    "    ca_df = pd.read_json(json_data)\n",
    "    ca_df['effective_date'] = pd.to_datetime(ca_df['effective_date'])\n",
    "    ca_df['record_date'] = pd.to_datetime(ca_df['record_date'])\n",
    "    ca_df['declaration_date'] = pd.to_datetime(ca_df['declaration_date'])\n",
    "    ca_df['payable_date'] = pd.to_datetime(ca_df['payable_date'])\n",
    "    ca_df['ex_date'] = pd.to_datetime(ca_df['ex_date'])\n",
    "\n",
    "    for type in ca_types:\n",
    "        for event in ca_events:\n",
    "            df[f'ca_{type}_{event}'] = None\n",
    "\n",
    "    symbol = df['symbol'][0]\n",
    "\n",
    "    ca_df_filtered = ca_df.loc[ca_df['initiating_symbol'] == symbol]\n",
    "\n",
    "    for index, row in ca_df_filtered.iterrows():\n",
    "        df.loc[df.index == row['effective_date'], [f\"ca_{row['ca_type']}_effective\"]] = df.loc[df.index == row['effective_date']]['Close']\n",
    "        df.loc[df.index == row['record_date'], [f\"ca_{row['ca_type']}_record\"]] = df.loc[df.index == row['record_date']]['Close']\n",
    "        df.loc[df.index == row['declaration_date'], [f\"ca_{row['ca_type']}_declaration\"]] = df.loc[df.index == row['declaration_date']]['Close']\n",
    "        df.loc[df.index == row['payable_date'], [f\"ca_{row['ca_type']}_payable\"]] = df.loc[df.index == row['payable_date']]['Close']\n",
    "        df.loc[df.index == row['ex_date'], [f\"ca_{row['ca_type']}_ex\"]] = df.loc[df.index == row['ex_date']]['Close']\n",
    "\n",
    "    return df\n",
    "\n",
    "\n",
    "    "
   ]
  },
  {
   "attachments": {},
   "cell_type": "markdown",
   "metadata": {},
   "source": [
    "Plotting...."
   ]
  },
  {
   "cell_type": "code",
   "execution_count": 27,
   "metadata": {},
   "outputs": [],
   "source": [
    "import plotly.offline as pyo\n",
    "import plotly.graph_objects as go\n",
    "\n",
    "def create_plot(df: pd.DataFrame):\n",
    "\n",
    "    dfpl = df.last('90D').copy()\n",
    "\n",
    "    data = [go.Candlestick(x=dfpl.index,\n",
    "                           open=dfpl['Open'],               \n",
    "                           high=dfpl['High'],\n",
    "                           low=dfpl['Low'],\n",
    "                           close=dfpl['Close'], yaxis='y1')]\n",
    "\n",
    "    for type in ca_types:\n",
    "      for event in ca_events:\n",
    "         data = data + [go.Scatter(x=dfpl.index, y=dfpl[f'ca_{type}_{event}'], mode=\"markers\", marker=dict(size=15, color=\"darkorange\", symbol=\"triangle-down\"), name=f\"{type} - {event}\", hovertemplate=f'{type} - {event}:' + '%{y:.2f}', yaxis='y1')]\n",
    "\n",
    "    layout = go.Layout(title=f\"Corporate actions for {df['symbol'][0]} \", yaxis_title='Price', dragmode='pan',\n",
    "                       xaxis=dict(rangeslider=dict(visible=False)),\n",
    "                       yaxis=dict(fixedrange=False, domain=[0,1], anchor='y1'))\n",
    "\n",
    "    fig = go.Figure(data=data, layout=layout)\n",
    "\n",
    "    pyo.plot(fig, filename=f\"ca_{df['symbol'][0]}.html\", auto_open=True)"
   ]
  },
  {
   "attachments": {},
   "cell_type": "markdown",
   "metadata": {},
   "source": [
    "Trying it all out"
   ]
  },
  {
   "cell_type": "code",
   "execution_count": 33,
   "metadata": {},
   "outputs": [],
   "source": [
    "f = open('../development_assets/cas_filtered.json', 'r').read()\n",
    "# stockdata = open('../development_assets/AAPL_10y.json').read()\n",
    "# stockdata = open('../development_assets/V_10y.json').read()\n",
    "# stockdata = open('../development_assets/AMZN_10y.json').read()\n",
    "# stockdata = open('../development_assets/JNJ_10y.json').read()\n",
    "stockdata = open('../development_assets/MSFT_10y.json').read()\n",
    "df = parse_data(stockdata)\n",
    "add_ca_data(df, f)\n",
    "create_plot(df)\n",
    "# df = add_ca_points(df)"
   ]
  }
 ],
 "metadata": {
  "kernelspec": {
   "display_name": ".venv",
   "language": "python",
   "name": "python3"
  },
  "language_info": {
   "codemirror_mode": {
    "name": "ipython",
    "version": 3
   },
   "file_extension": ".py",
   "mimetype": "text/x-python",
   "name": "python",
   "nbconvert_exporter": "python",
   "pygments_lexer": "ipython3",
   "version": "3.9.10"
  },
  "orig_nbformat": 4
 },
 "nbformat": 4,
 "nbformat_minor": 2
}
